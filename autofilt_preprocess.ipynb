{
 "cells": [
  {
   "cell_type": "code",
   "execution_count": 1,
   "metadata": {},
   "outputs": [],
   "source": [
    "## IMPORT\n",
    "import sys\n",
    "import os\n",
    "import f\n",
    "import app_paths"
   ]
  },
  {
   "cell_type": "code",
   "execution_count": null,
   "metadata": {},
   "outputs": [],
   "source": [
    " "
   ]
  },
  {
   "cell_type": "code",
   "execution_count": 18,
   "metadata": {},
   "outputs": [],
   "source": [
    "## READ COMMAND-LINE ARGUMENTS\n",
    "if 1==1:\n",
    "    myargs=sys.argv\n",
    "    cmdline_params=['vcf_truth','vcf_query','bedfile_truth','bedfile_query',\n",
    "                          'reffile','scriptfile_preprocess','locdir','runtag']\n",
    "    argdict={}\n",
    "    for arg in cmdline_params:\n",
    "        if '--'+arg in myargs:\n",
    "            argdict[arg]=myargs[myargs.index('--'+arg)+1]\n",
    "        else:\n",
    "            print(\"Missing required parameter \"+arg+\", which should be preceded by --\"+arg+\" in command\")\n",
    "else:\n",
    "    argdict={'vcf_truth': '/igm/home/pjb004/NIST/HG001_GRCh37_GIAB_highconf_CG-IllFB-IllGATKHC-Ion-10X-SOLID_CHROM1-X_v.3.3.2_highconf_PGandRTGphasetransfer.vcf.gz',\n",
    "             'vcf_query': '/igm/projects/GATK4.1.2_GIAB/WES/CHURCHILL/Variants/NA12878.HC.vcf.gz',\n",
    "             'bedfile_truth': '/igm/home/pjb004/NIST/HG001_GRCh37_GIAB_highconf_CG-IllFB-IllGATKHC-Ion-10X-SOLID_CHROM1-X_v.3.3.2_highconf_nosomaticdel.bed',\n",
    "             'bedfile_query': '/igm/projects/GATK4.1.2_GIAB/WES/CHURCHILL/TEMP/kit_padded.bed',\n",
    "             'reffile': '/igm/apps/genomes/Homo_sapiens/human_g1k_v37_decoy/human_g1k_v37_decoy.fasta',\n",
    "             'scriptfile_preprocess': '/igm/home/jbg001/git/germfilt/germline_variant_filtering/kf/script/run_preprocess.sh',\n",
    "             'locdir': '/igm/projects/FOR_JEFF/germfilt/tm/run_02272020',\n",
    "             'runtag': 'jeffsrun'}\n"
   ]
  },
  {
   "cell_type": "code",
   "execution_count": null,
   "metadata": {},
   "outputs": [],
   "source": []
  },
  {
   "cell_type": "code",
   "execution_count": 20,
   "metadata": {
    "scrolled": false
   },
   "outputs": [],
   "source": [
    "## LOAD/CREATE SCRIPT VARIABLES\n",
    "\n",
    "\n",
    "cmd_dict=app_paths.cmd_dict\n",
    "vcf_truth_raw=argdict['vcf_truth']\n",
    "vcf_query_raw=argdict['vcf_query']\n",
    "bedfile_truth=argdict['bedfile_truth']\n",
    "bedfile_query=argdict['bedfile_query']\n",
    "reffile=argdict['reffile']\n",
    "scriptfile_preprocess=argdict['scriptfile_preprocess']\n",
    "locdir=argdict['locdir']\n",
    "runtag=argdict['runtag']\n",
    "\n",
    "bedfile_intersected=locdir+'/giab_intersected_'+runtag+'.bed'\n",
    "\n",
    "vcf_truth_filtered=locdir+'/truth_filtered_'+runtag+'.vcf.gz'\n",
    "vcf_query_filtered=locdir+'/query_filtered_'+runtag+'.vcf.gz'\n",
    "vcf_truth_prepyed=locdir+'/truth_filtered_prepyed_'+runtag+'.vcf.gz'\n",
    "vcf_query_prepyed=locdir+'/query_filtered_prepyed_'+runtag+'.vcf.gz'\n",
    "vcf_query_preprocessed=locdir+'/query_preprocessed_'+runtag+'.vcf.gz'\n",
    "happy_outstring=locdir+'/happyout_'+runtag\n",
    "vcf_happy=happy_outstring+'.vcf.gz'\n",
    "happy_summary=happy_outstring+'.summary.csv'"
   ]
  },
  {
   "cell_type": "code",
   "execution_count": null,
   "metadata": {},
   "outputs": [],
   "source": []
  },
  {
   "cell_type": "code",
   "execution_count": 22,
   "metadata": {},
   "outputs": [
    {
     "name": "stdout",
     "output_type": "stream",
     "text": [
      "No GATK 3.8 path given, so TandemRepeat annotations will not be calculated.\n",
      " \n",
      "Preprocessing script: /igm/home/jbg001/git/germfilt/germline_variant_filtering/kf/script/run_preprocess.sh\n",
      "After running, processed training VCFs will be stored at \n",
      "Truth: /igm/projects/FOR_JEFF/germfilt/tm/run_02272020/happyout_jeffsrun.vcf.gz\n",
      "Query: /igm/projects/FOR_JEFF/germfilt/tm/run_02272020/query_filtered_jeffsrun.vcf.gz\n"
     ]
    }
   ],
   "source": [
    "## WRITE PREPROCESSING SCRIPT\n",
    "f.quietly_create_directory(locdir)\n",
    "prepflag=1\n",
    "if bedfile_query is None:\n",
    "    print(\"No query bedfile given...assuming this is WGS.\")\n",
    "with open(scriptfile_preprocess,'w') as fx:\n",
    "    fx.write(\"#!/bin/bash\\n\")\n",
    "    fx.write(\"#$ -pe smp 8\\n\")\n",
    "    fx.write(cmd_dict['bedtools_path']+' intersect -a '+bedfile_truth +' -b '+bedfile_query+' |\\\\\\n')\n",
    "    fx.write(cmd_dict['bedtools_path']+  '  sort -i -  > ' + bedfile_intersected +'\\n')\n",
    "    fx.write(cmd_dict['bedtools_path']+  ' intersect -a '+ vcf_truth_raw + ' -b ' + bedfile_intersected +' -header '+' | bgzip > '+ vcf_truth_filtered+ '\\n')\n",
    "    fx.write(cmd_dict['bedtools_path']+  ' intersect -a '+ vcf_query_raw + ' -b ' + bedfile_intersected +' -header '+' | bgzip > '+ vcf_query_filtered+ '\\n')\n",
    "    fx.write(cmd_dict['tabix_path'] + ' -f ' + vcf_truth_filtered+'\\n')\n",
    "    fx.write(cmd_dict['tabix_path'] + ' -f ' + vcf_query_filtered+'\\n')\n",
    "    gatkflag=0\n",
    "    if 'gatk38_path' in cmd_dict:\n",
    "        if cmd_dict['gatk38_path'] is not None:\n",
    "            gatkflag=1\n",
    "    if gatkflag==0:\n",
    "        print(\"No GATK 3.8 path given, so TandemRepeat annotations will not be calculated.\")\n",
    "        fx.write('mv '+vcf_query_filtered+' '+vcf_query_preprocessed+'\\n')\n",
    "        fx.write('mv '+vcf_query_filtered+'.tbi '+vcf_query_preprocessed+'.tbi'+'\\n')\n",
    "    else:\n",
    "        xx=1\n",
    "        #fx.write('java -jar '+cmd_dict['gatk38_path']+'  --analysis_type VariantAnnotator -V '+\n",
    "        #        vcf_query_filtered + ' -o ' + vcf_query_preprocessed + ' -R '+reffile + ' -A TandemRepeatAnnotator -L '+ bedfile_intersected +' -ip 50\\n')\n",
    "    fx.write(cmd_dict['happy_path'] + ' ' + vcf_truth_filtered +' ' +vcf_query_preprocessed + ' -r ' + reffile + \n",
    "             ' -f '+bedfile_intersected+ ' -o '+happy_outstring + ' --threads 4 --no-roc --no-json -X --output-vtc \\n')\n",
    "os.chmod(scriptfile_preprocess, 0o775)\n",
    "print(\" \")\n",
    "print(\"Preprocessing script: \"+scriptfile_preprocess)\n",
    "print(\"Output file locations\")\n",
    "print(\"Truth vcf: \"+vcf_happy)\n",
    "print(\"Query vcf: \"+vcf_query_preprocessed)\n",
    "print(\"Hap.py summary: \"+happy_summary)"
   ]
  },
  {
   "cell_type": "code",
   "execution_count": null,
   "metadata": {},
   "outputs": [],
   "source": []
  },
  {
   "cell_type": "code",
   "execution_count": null,
   "metadata": {},
   "outputs": [],
   "source": []
  },
  {
   "cell_type": "code",
   "execution_count": null,
   "metadata": {},
   "outputs": [],
   "source": []
  },
  {
   "cell_type": "code",
   "execution_count": null,
   "metadata": {},
   "outputs": [],
   "source": []
  },
  {
   "cell_type": "code",
   "execution_count": null,
   "metadata": {},
   "outputs": [],
   "source": []
  },
  {
   "cell_type": "code",
   "execution_count": null,
   "metadata": {},
   "outputs": [],
   "source": []
  },
  {
   "cell_type": "code",
   "execution_count": null,
   "metadata": {},
   "outputs": [],
   "source": []
  }
 ],
 "metadata": {
  "kernelspec": {
   "display_name": "Python [conda env:germfiltenv_2.7]",
   "language": "python",
   "name": "conda-env-germfiltenv_2.7-py"
  },
  "language_info": {
   "codemirror_mode": {
    "name": "ipython",
    "version": 2
   },
   "file_extension": ".py",
   "mimetype": "text/x-python",
   "name": "python",
   "nbconvert_exporter": "python",
   "pygments_lexer": "ipython2",
   "version": "2.7.12"
  }
 },
 "nbformat": 4,
 "nbformat_minor": 2
}
